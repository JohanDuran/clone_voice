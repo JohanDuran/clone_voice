{
  "nbformat": 4,
  "nbformat_minor": 0,
  "metadata": {
    "colab": {
      "provenance": []
    },
    "kernelspec": {
      "name": "python3",
      "display_name": "Python 3"
    },
    "language_info": {
      "name": "python"
    }
  },
  "cells": [
    {
      "cell_type": "markdown",
      "source": [
        "Install the required dependencies"
      ],
      "metadata": {
        "id": "s5Jb_LGufNS6"
      }
    },
    {
      "cell_type": "markdown",
      "source": [
        "Install the dependencies and mount google drive"
      ],
      "metadata": {
        "id": "UHf_Kfwz7EtL"
      }
    },
    {
      "cell_type": "code",
      "execution_count": null,
      "metadata": {
        "id": "AHMmmYDxezAA"
      },
      "outputs": [],
      "source": [
        "!pip install coqui-tts\n",
        "from google.colab import drive\n",
        "drive.mount('/content/drive')"
      ]
    },
    {
      "cell_type": "markdown",
      "source": [
        "Code to read a sample audio and then generate the output based on the TTS library"
      ],
      "metadata": {
        "id": "mQ5Pnzqw7IP7"
      }
    },
    {
      "cell_type": "code",
      "source": [
        "from TTS.api import TTS\n",
        "BASE_PATH = r\"/content/drive/My Drive/Colab Notebooks\"\n",
        "\n",
        "\n",
        "#Setting for COQUI\n",
        "device = \"cpu\"\n",
        "print(f\"Running on device: {device}\")\n",
        "\n",
        "model_name = \"tts_models/multilingual/multi-dataset/xtts_v2\"\n",
        "tts = TTS(model_name=model_name, progress_bar=False).to(device)\n",
        "\n",
        "def text_to_speech_line(text):\n",
        "  filename = f\"{BASE_PATH}/Videos/adamSample_output.mp3\"\n",
        "  model = \"coqui\"\n",
        "  tts.tts_to_file(text=text,\n",
        "              speaker_wav=f\"{BASE_PATH}/Videos/adamSample.mp3\",\n",
        "              language=\"en\",\n",
        "              file_path=filename)\n",
        "\n",
        "\n",
        "text_to_speech_line(\"Hi guys, I hope you are having an amazing day!! Welcome to my channel and let's learn together\")"
      ],
      "metadata": {
        "id": "at4VqvQ1fMlH"
      },
      "execution_count": null,
      "outputs": []
    }
  ]
}